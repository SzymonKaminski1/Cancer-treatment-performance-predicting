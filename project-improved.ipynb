{
 "cells": [
  {
   "attachments": {},
   "cell_type": "markdown",
   "metadata": {},
   "source": [
    "Loading basic libraries"
   ]
  },
  {
   "cell_type": "code",
   "execution_count": 1,
   "metadata": {},
   "outputs": [],
   "source": [
    "import pandas as pd\n",
    "import numpy as np\n"
   ]
  },
  {
   "attachments": {},
   "cell_type": "markdown",
   "metadata": {},
   "source": [
    "Importing data set"
   ]
  },
  {
   "cell_type": "code",
   "execution_count": 2,
   "metadata": {},
   "outputs": [],
   "source": [
    "X_test = pd.read_csv('data_test.csv')\n",
    "X_train = pd.read_csv('data_train.csv')\n"
   ]
  },
  {
   "attachments": {},
   "cell_type": "markdown",
   "metadata": {},
   "source": [
    "Basic data review"
   ]
  },
  {
   "cell_type": "code",
   "execution_count": 3,
   "metadata": {},
   "outputs": [
    {
     "data": {
      "text/html": [
       "<div>\n",
       "<style scoped>\n",
       "    .dataframe tbody tr th:only-of-type {\n",
       "        vertical-align: middle;\n",
       "    }\n",
       "\n",
       "    .dataframe tbody tr th {\n",
       "        vertical-align: top;\n",
       "    }\n",
       "\n",
       "    .dataframe thead th {\n",
       "        text-align: right;\n",
       "    }\n",
       "</style>\n",
       "<table border=\"1\" class=\"dataframe\">\n",
       "  <thead>\n",
       "    <tr style=\"text-align: right;\">\n",
       "      <th></th>\n",
       "      <th>ENSG00000000003</th>\n",
       "      <th>ENSG00000000005</th>\n",
       "      <th>ENSG00000000419</th>\n",
       "      <th>ENSG00000000457</th>\n",
       "      <th>ENSG00000000460</th>\n",
       "      <th>ENSG00000000938</th>\n",
       "      <th>ENSG00000000971</th>\n",
       "      <th>ENSG00000001036</th>\n",
       "      <th>ENSG00000001084</th>\n",
       "      <th>ENSG00000001167</th>\n",
       "      <th>...</th>\n",
       "      <th>ENSG00000265060</th>\n",
       "      <th>ENSG00000265246</th>\n",
       "      <th>ENSG00000265298</th>\n",
       "      <th>ENSG00000265480</th>\n",
       "      <th>ENSG00000265929</th>\n",
       "      <th>ENSG00000266066</th>\n",
       "      <th>ENSG00000266282</th>\n",
       "      <th>ENSG00000266433</th>\n",
       "      <th>ENSG00000266753</th>\n",
       "      <th>Y</th>\n",
       "    </tr>\n",
       "  </thead>\n",
       "  <tbody>\n",
       "    <tr>\n",
       "      <th>0</th>\n",
       "      <td>6.943670</td>\n",
       "      <td>2.829144</td>\n",
       "      <td>9.723770</td>\n",
       "      <td>4.495475</td>\n",
       "      <td>3.443697</td>\n",
       "      <td>3.240067</td>\n",
       "      <td>3.492317</td>\n",
       "      <td>9.251532</td>\n",
       "      <td>7.919820</td>\n",
       "      <td>5.320639</td>\n",
       "      <td>...</td>\n",
       "      <td>3.038178</td>\n",
       "      <td>3.095895</td>\n",
       "      <td>8.002209</td>\n",
       "      <td>3.190838</td>\n",
       "      <td>2.809085</td>\n",
       "      <td>3.216826</td>\n",
       "      <td>8.610210</td>\n",
       "      <td>3.297173</td>\n",
       "      <td>6.817579</td>\n",
       "      <td>0.932032</td>\n",
       "    </tr>\n",
       "    <tr>\n",
       "      <th>1</th>\n",
       "      <td>9.139520</td>\n",
       "      <td>2.789625</td>\n",
       "      <td>10.617848</td>\n",
       "      <td>5.330315</td>\n",
       "      <td>3.994308</td>\n",
       "      <td>2.928790</td>\n",
       "      <td>7.059437</td>\n",
       "      <td>8.109664</td>\n",
       "      <td>7.295558</td>\n",
       "      <td>5.525376</td>\n",
       "      <td>...</td>\n",
       "      <td>3.078613</td>\n",
       "      <td>3.754857</td>\n",
       "      <td>9.145682</td>\n",
       "      <td>3.369082</td>\n",
       "      <td>3.432980</td>\n",
       "      <td>3.080377</td>\n",
       "      <td>9.496544</td>\n",
       "      <td>3.033546</td>\n",
       "      <td>7.870674</td>\n",
       "      <td>0.988987</td>\n",
       "    </tr>\n",
       "    <tr>\n",
       "      <th>2</th>\n",
       "      <td>7.061566</td>\n",
       "      <td>2.730182</td>\n",
       "      <td>11.080711</td>\n",
       "      <td>3.852227</td>\n",
       "      <td>3.525849</td>\n",
       "      <td>3.397856</td>\n",
       "      <td>3.227136</td>\n",
       "      <td>7.929579</td>\n",
       "      <td>5.258247</td>\n",
       "      <td>5.142905</td>\n",
       "      <td>...</td>\n",
       "      <td>2.882603</td>\n",
       "      <td>2.911978</td>\n",
       "      <td>7.575089</td>\n",
       "      <td>3.593751</td>\n",
       "      <td>3.197575</td>\n",
       "      <td>2.744098</td>\n",
       "      <td>9.664830</td>\n",
       "      <td>2.939377</td>\n",
       "      <td>7.197655</td>\n",
       "      <td>0.922350</td>\n",
       "    </tr>\n",
       "    <tr>\n",
       "      <th>3</th>\n",
       "      <td>7.411106</td>\n",
       "      <td>3.096118</td>\n",
       "      <td>10.058010</td>\n",
       "      <td>5.142190</td>\n",
       "      <td>3.678305</td>\n",
       "      <td>3.328251</td>\n",
       "      <td>3.437501</td>\n",
       "      <td>7.195792</td>\n",
       "      <td>6.610696</td>\n",
       "      <td>5.327041</td>\n",
       "      <td>...</td>\n",
       "      <td>3.271619</td>\n",
       "      <td>3.619526</td>\n",
       "      <td>8.719681</td>\n",
       "      <td>3.691763</td>\n",
       "      <td>3.317537</td>\n",
       "      <td>2.975108</td>\n",
       "      <td>8.863168</td>\n",
       "      <td>3.442371</td>\n",
       "      <td>7.351481</td>\n",
       "      <td>0.775564</td>\n",
       "    </tr>\n",
       "    <tr>\n",
       "      <th>4</th>\n",
       "      <td>7.998019</td>\n",
       "      <td>2.918023</td>\n",
       "      <td>10.585413</td>\n",
       "      <td>5.513958</td>\n",
       "      <td>4.201012</td>\n",
       "      <td>3.144381</td>\n",
       "      <td>2.958268</td>\n",
       "      <td>8.826530</td>\n",
       "      <td>6.493099</td>\n",
       "      <td>5.891222</td>\n",
       "      <td>...</td>\n",
       "      <td>2.992171</td>\n",
       "      <td>3.383830</td>\n",
       "      <td>7.988477</td>\n",
       "      <td>3.143282</td>\n",
       "      <td>2.839581</td>\n",
       "      <td>3.130448</td>\n",
       "      <td>9.777649</td>\n",
       "      <td>3.164744</td>\n",
       "      <td>7.017333</td>\n",
       "      <td>0.803017</td>\n",
       "    </tr>\n",
       "  </tbody>\n",
       "</table>\n",
       "<p>5 rows × 17738 columns</p>\n",
       "</div>"
      ],
      "text/plain": [
       "   ENSG00000000003  ENSG00000000005  ENSG00000000419  ENSG00000000457  \\\n",
       "0         6.943670         2.829144         9.723770         4.495475   \n",
       "1         9.139520         2.789625        10.617848         5.330315   \n",
       "2         7.061566         2.730182        11.080711         3.852227   \n",
       "3         7.411106         3.096118        10.058010         5.142190   \n",
       "4         7.998019         2.918023        10.585413         5.513958   \n",
       "\n",
       "   ENSG00000000460  ENSG00000000938  ENSG00000000971  ENSG00000001036  \\\n",
       "0         3.443697         3.240067         3.492317         9.251532   \n",
       "1         3.994308         2.928790         7.059437         8.109664   \n",
       "2         3.525849         3.397856         3.227136         7.929579   \n",
       "3         3.678305         3.328251         3.437501         7.195792   \n",
       "4         4.201012         3.144381         2.958268         8.826530   \n",
       "\n",
       "   ENSG00000001084  ENSG00000001167  ...  ENSG00000265060  ENSG00000265246  \\\n",
       "0         7.919820         5.320639  ...         3.038178         3.095895   \n",
       "1         7.295558         5.525376  ...         3.078613         3.754857   \n",
       "2         5.258247         5.142905  ...         2.882603         2.911978   \n",
       "3         6.610696         5.327041  ...         3.271619         3.619526   \n",
       "4         6.493099         5.891222  ...         2.992171         3.383830   \n",
       "\n",
       "   ENSG00000265298  ENSG00000265480  ENSG00000265929  ENSG00000266066  \\\n",
       "0         8.002209         3.190838         2.809085         3.216826   \n",
       "1         9.145682         3.369082         3.432980         3.080377   \n",
       "2         7.575089         3.593751         3.197575         2.744098   \n",
       "3         8.719681         3.691763         3.317537         2.975108   \n",
       "4         7.988477         3.143282         2.839581         3.130448   \n",
       "\n",
       "   ENSG00000266282  ENSG00000266433  ENSG00000266753         Y  \n",
       "0         8.610210         3.297173         6.817579  0.932032  \n",
       "1         9.496544         3.033546         7.870674  0.988987  \n",
       "2         9.664830         2.939377         7.197655  0.922350  \n",
       "3         8.863168         3.442371         7.351481  0.775564  \n",
       "4         9.777649         3.164744         7.017333  0.803017  \n",
       "\n",
       "[5 rows x 17738 columns]"
      ]
     },
     "execution_count": 3,
     "metadata": {},
     "output_type": "execute_result"
    }
   ],
   "source": [
    "X_train.head()"
   ]
  },
  {
   "cell_type": "code",
   "execution_count": 4,
   "metadata": {},
   "outputs": [
    {
     "name": "stdout",
     "output_type": "stream",
     "text": [
      "Number of variables:  17738 \n",
      "Number of observations:  644\n",
      "<class 'pandas.core.frame.DataFrame'>\n",
      "RangeIndex: 644 entries, 0 to 643\n",
      "Columns: 17738 entries, ENSG00000000003 to Y\n",
      "dtypes: float64(17738)\n",
      "memory usage: 87.2 MB\n"
     ]
    }
   ],
   "source": [
    "print(\"Number of variables: \", len(X_train.columns), \"\\nNumber of observations: \", len(X_train.index))\n",
    "X_train.info()\n"
   ]
  },
  {
   "attachments": {},
   "cell_type": "markdown",
   "metadata": {},
   "source": [
    "We can see that all data is numerical."
   ]
  },
  {
   "attachments": {},
   "cell_type": "markdown",
   "metadata": {},
   "source": [
    "Are there any missing data?"
   ]
  },
  {
   "cell_type": "code",
   "execution_count": 5,
   "metadata": {},
   "outputs": [
    {
     "data": {
      "text/plain": [
       "ENSG00000000003    0\n",
       "ENSG00000168878    0\n",
       "ENSG00000168883    0\n",
       "ENSG00000168884    0\n",
       "ENSG00000168887    0\n",
       "                  ..\n",
       "ENSG00000130023    0\n",
       "ENSG00000130021    0\n",
       "ENSG00000130005    0\n",
       "ENSG00000130037    0\n",
       "Y                  0\n",
       "Length: 17738, dtype: int64"
      ]
     },
     "execution_count": 5,
     "metadata": {},
     "output_type": "execute_result"
    }
   ],
   "source": [
    "X_train.isnull().sum().sort_values()"
   ]
  },
  {
   "attachments": {},
   "cell_type": "markdown",
   "metadata": {},
   "source": [
    "No data missing. Now we are separating data set."
   ]
  },
  {
   "cell_type": "code",
   "execution_count": 6,
   "metadata": {},
   "outputs": [],
   "source": [
    "y = X_train.Y\n",
    "X_train.drop(['Y'], axis=1, inplace=True)"
   ]
  },
  {
   "attachments": {},
   "cell_type": "markdown",
   "metadata": {},
   "source": [
    "From prevoius cells we can see that values are not standardized."
   ]
  },
  {
   "cell_type": "code",
   "execution_count": 7,
   "metadata": {},
   "outputs": [],
   "source": [
    "from sklearn.preprocessing import StandardScaler"
   ]
  },
  {
   "cell_type": "code",
   "execution_count": 8,
   "metadata": {},
   "outputs": [
    {
     "data": {
      "text/html": [
       "<div>\n",
       "<style scoped>\n",
       "    .dataframe tbody tr th:only-of-type {\n",
       "        vertical-align: middle;\n",
       "    }\n",
       "\n",
       "    .dataframe tbody tr th {\n",
       "        vertical-align: top;\n",
       "    }\n",
       "\n",
       "    .dataframe thead th {\n",
       "        text-align: right;\n",
       "    }\n",
       "</style>\n",
       "<table border=\"1\" class=\"dataframe\">\n",
       "  <thead>\n",
       "    <tr style=\"text-align: right;\">\n",
       "      <th></th>\n",
       "      <th>ENSG00000000003</th>\n",
       "      <th>ENSG00000000005</th>\n",
       "      <th>ENSG00000000419</th>\n",
       "      <th>ENSG00000000457</th>\n",
       "      <th>ENSG00000000460</th>\n",
       "      <th>ENSG00000000938</th>\n",
       "      <th>ENSG00000000971</th>\n",
       "      <th>ENSG00000001036</th>\n",
       "      <th>ENSG00000001084</th>\n",
       "      <th>ENSG00000001167</th>\n",
       "      <th>...</th>\n",
       "      <th>ENSG00000264575</th>\n",
       "      <th>ENSG00000265060</th>\n",
       "      <th>ENSG00000265246</th>\n",
       "      <th>ENSG00000265298</th>\n",
       "      <th>ENSG00000265480</th>\n",
       "      <th>ENSG00000265929</th>\n",
       "      <th>ENSG00000266066</th>\n",
       "      <th>ENSG00000266282</th>\n",
       "      <th>ENSG00000266433</th>\n",
       "      <th>ENSG00000266753</th>\n",
       "    </tr>\n",
       "  </thead>\n",
       "  <tbody>\n",
       "    <tr>\n",
       "      <th>0</th>\n",
       "      <td>0.087365</td>\n",
       "      <td>-0.084167</td>\n",
       "      <td>-0.574332</td>\n",
       "      <td>0.511206</td>\n",
       "      <td>-0.576645</td>\n",
       "      <td>-0.254682</td>\n",
       "      <td>-0.559691</td>\n",
       "      <td>1.184094</td>\n",
       "      <td>1.893237</td>\n",
       "      <td>0.179565</td>\n",
       "      <td>...</td>\n",
       "      <td>1.164085</td>\n",
       "      <td>-0.493585</td>\n",
       "      <td>-0.387521</td>\n",
       "      <td>-0.905925</td>\n",
       "      <td>-0.489034</td>\n",
       "      <td>-0.561532</td>\n",
       "      <td>0.252465</td>\n",
       "      <td>-1.428503</td>\n",
       "      <td>-0.274309</td>\n",
       "      <td>-0.950728</td>\n",
       "    </tr>\n",
       "    <tr>\n",
       "      <th>1</th>\n",
       "      <td>1.290324</td>\n",
       "      <td>-0.264731</td>\n",
       "      <td>1.011729</td>\n",
       "      <td>2.079898</td>\n",
       "      <td>0.783136</td>\n",
       "      <td>-0.564583</td>\n",
       "      <td>1.599256</td>\n",
       "      <td>0.478352</td>\n",
       "      <td>1.296931</td>\n",
       "      <td>0.507688</td>\n",
       "      <td>...</td>\n",
       "      <td>2.021574</td>\n",
       "      <td>-0.238897</td>\n",
       "      <td>1.443725</td>\n",
       "      <td>1.359551</td>\n",
       "      <td>0.204791</td>\n",
       "      <td>-0.033403</td>\n",
       "      <td>-0.261413</td>\n",
       "      <td>0.437162</td>\n",
       "      <td>-1.666651</td>\n",
       "      <td>0.351598</td>\n",
       "    </tr>\n",
       "    <tr>\n",
       "      <th>2</th>\n",
       "      <td>0.151952</td>\n",
       "      <td>-0.536323</td>\n",
       "      <td>1.832832</td>\n",
       "      <td>-0.697478</td>\n",
       "      <td>-0.373764</td>\n",
       "      <td>-0.097590</td>\n",
       "      <td>-0.720188</td>\n",
       "      <td>0.367049</td>\n",
       "      <td>-0.649141</td>\n",
       "      <td>-0.105282</td>\n",
       "      <td>...</td>\n",
       "      <td>-0.658724</td>\n",
       "      <td>-1.473497</td>\n",
       "      <td>-0.898625</td>\n",
       "      <td>-1.752145</td>\n",
       "      <td>1.079323</td>\n",
       "      <td>-0.232674</td>\n",
       "      <td>-1.527870</td>\n",
       "      <td>0.791390</td>\n",
       "      <td>-2.164006</td>\n",
       "      <td>-0.480701</td>\n",
       "    </tr>\n",
       "    <tr>\n",
       "      <th>3</th>\n",
       "      <td>0.343442</td>\n",
       "      <td>1.135632</td>\n",
       "      <td>0.018598</td>\n",
       "      <td>1.726405</td>\n",
       "      <td>0.002739</td>\n",
       "      <td>-0.166886</td>\n",
       "      <td>-0.592867</td>\n",
       "      <td>-0.086474</td>\n",
       "      <td>0.642740</td>\n",
       "      <td>0.189825</td>\n",
       "      <td>...</td>\n",
       "      <td>1.194622</td>\n",
       "      <td>0.976779</td>\n",
       "      <td>1.067642</td>\n",
       "      <td>0.515547</td>\n",
       "      <td>1.460839</td>\n",
       "      <td>-0.131126</td>\n",
       "      <td>-0.657866</td>\n",
       "      <td>-0.896046</td>\n",
       "      <td>0.492552</td>\n",
       "      <td>-0.290470</td>\n",
       "    </tr>\n",
       "    <tr>\n",
       "      <th>4</th>\n",
       "      <td>0.664972</td>\n",
       "      <td>0.321919</td>\n",
       "      <td>0.954190</td>\n",
       "      <td>2.424969</td>\n",
       "      <td>1.293608</td>\n",
       "      <td>-0.349945</td>\n",
       "      <td>-0.882916</td>\n",
       "      <td>0.921418</td>\n",
       "      <td>0.530409</td>\n",
       "      <td>1.094015</td>\n",
       "      <td>...</td>\n",
       "      <td>-0.490514</td>\n",
       "      <td>-0.783368</td>\n",
       "      <td>0.412646</td>\n",
       "      <td>-0.933132</td>\n",
       "      <td>-0.674150</td>\n",
       "      <td>-0.535717</td>\n",
       "      <td>-0.072842</td>\n",
       "      <td>1.028866</td>\n",
       "      <td>-0.973732</td>\n",
       "      <td>-0.703698</td>\n",
       "    </tr>\n",
       "  </tbody>\n",
       "</table>\n",
       "<p>5 rows × 17737 columns</p>\n",
       "</div>"
      ],
      "text/plain": [
       "   ENSG00000000003  ENSG00000000005  ENSG00000000419  ENSG00000000457  \\\n",
       "0         0.087365        -0.084167        -0.574332         0.511206   \n",
       "1         1.290324        -0.264731         1.011729         2.079898   \n",
       "2         0.151952        -0.536323         1.832832        -0.697478   \n",
       "3         0.343442         1.135632         0.018598         1.726405   \n",
       "4         0.664972         0.321919         0.954190         2.424969   \n",
       "\n",
       "   ENSG00000000460  ENSG00000000938  ENSG00000000971  ENSG00000001036  \\\n",
       "0        -0.576645        -0.254682        -0.559691         1.184094   \n",
       "1         0.783136        -0.564583         1.599256         0.478352   \n",
       "2        -0.373764        -0.097590        -0.720188         0.367049   \n",
       "3         0.002739        -0.166886        -0.592867        -0.086474   \n",
       "4         1.293608        -0.349945        -0.882916         0.921418   \n",
       "\n",
       "   ENSG00000001084  ENSG00000001167  ...  ENSG00000264575  ENSG00000265060  \\\n",
       "0         1.893237         0.179565  ...         1.164085        -0.493585   \n",
       "1         1.296931         0.507688  ...         2.021574        -0.238897   \n",
       "2        -0.649141        -0.105282  ...        -0.658724        -1.473497   \n",
       "3         0.642740         0.189825  ...         1.194622         0.976779   \n",
       "4         0.530409         1.094015  ...        -0.490514        -0.783368   \n",
       "\n",
       "   ENSG00000265246  ENSG00000265298  ENSG00000265480  ENSG00000265929  \\\n",
       "0        -0.387521        -0.905925        -0.489034        -0.561532   \n",
       "1         1.443725         1.359551         0.204791        -0.033403   \n",
       "2        -0.898625        -1.752145         1.079323        -0.232674   \n",
       "3         1.067642         0.515547         1.460839        -0.131126   \n",
       "4         0.412646        -0.933132        -0.674150        -0.535717   \n",
       "\n",
       "   ENSG00000266066  ENSG00000266282  ENSG00000266433  ENSG00000266753  \n",
       "0         0.252465        -1.428503        -0.274309        -0.950728  \n",
       "1        -0.261413         0.437162        -1.666651         0.351598  \n",
       "2        -1.527870         0.791390        -2.164006        -0.480701  \n",
       "3        -0.657866        -0.896046         0.492552        -0.290470  \n",
       "4        -0.072842         1.028866        -0.973732        -0.703698  \n",
       "\n",
       "[5 rows x 17737 columns]"
      ]
     },
     "execution_count": 8,
     "metadata": {},
     "output_type": "execute_result"
    }
   ],
   "source": [
    "X_train_std = StandardScaler().fit_transform(X_train)\n",
    "X_train = pd.DataFrame(X_train_std, index=X_train.index, columns=X_train.columns)\n",
    "X_train.head()\n"
   ]
  },
  {
   "attachments": {},
   "cell_type": "markdown",
   "metadata": {},
   "source": [
    "We are ready to see how ElasticNet model is performing on our data set."
   ]
  },
  {
   "cell_type": "code",
   "execution_count": 9,
   "metadata": {},
   "outputs": [],
   "source": [
    "from sklearn.linear_model import ElasticNet\n",
    "from sklearn.linear_model import Ridge\n",
    "from sklearn.linear_model import Lasso\n",
    "from sklearn.model_selection import cross_val_score\n",
    "from sklearn.metrics import mean_squared_error\n",
    "from heapq import nsmallest\n",
    "import matplotlib.pylab as plt\n",
    "import seaborn as sns"
   ]
  },
  {
   "attachments": {},
   "cell_type": "markdown",
   "metadata": {},
   "source": [
    "NOTE: from previous work on this project I noticed that ElasticNet model does not work well during the fitting strictly for Ridge/Lasso. I will use ElasticNet for \"middle\" values for parameters. "
   ]
  },
  {
   "cell_type": "code",
   "execution_count": 10,
   "metadata": {},
   "outputs": [],
   "source": [
    "#ElasticNet\n",
    "\n",
    "def get_score_preliminary_en(alpha, l1_ratio):\n",
    "    scores = (-1)*cross_val_score(ElasticNet(alpha=alpha, l1_ratio=l1_ratio, random_state=1), X_train, y, cv=5, scoring='neg_mean_squared_error')\n",
    "    return scores.mean()\n"
   ]
  },
  {
   "cell_type": "code",
   "execution_count": 11,
   "metadata": {},
   "outputs": [],
   "source": [
    "#Ridge\n",
    "\n",
    "def get_score_preliminary_r(alpha):\n",
    "    scores = (-1)*cross_val_score(Ridge(alpha=alpha, random_state=1), X_train, y, cv=5, scoring='neg_mean_squared_error')\n",
    "    return scores.mean()"
   ]
  },
  {
   "cell_type": "code",
   "execution_count": 12,
   "metadata": {},
   "outputs": [],
   "source": [
    "#Lasso\n",
    "\n",
    "def get_score_preliminary_l(alpha):\n",
    "    scores = (-1)*cross_val_score(Lasso(alpha=alpha, random_state=1), X_train, y, cv=5, scoring='neg_mean_squared_error')\n",
    "    return scores.mean()"
   ]
  },
  {
   "cell_type": "code",
   "execution_count": 13,
   "metadata": {},
   "outputs": [],
   "source": [
    "# displaying results in intuitive way\n",
    "\n",
    "def display_hm(alphas, l1_ratio, results):\n",
    "    ax = sns.heatmap(results, linewidth=0.5, xticklabels=alphas, yticklabels=l1_ratio)\n",
    "    plt.show()"
   ]
  },
  {
   "cell_type": "code",
   "execution_count": 14,
   "metadata": {},
   "outputs": [],
   "source": [
    "def train_save_results_arr(a):\n",
    "    \n",
    "    # \"a\" parameter is for choosing how many \"alphas\" we want\n",
    "    alphas_preliminary = [pow(10, i-2) for i in range(0, a)]\n",
    "    l1_ratio_preliminary = [i/10 for i in range(0, 11)]\n",
    "\n",
    "    #setting array and dictionary to store our results\n",
    "    results_preliminary = np.zeros((len(l1_ratio_preliminary), len(alphas_preliminary)))\n",
    "    results_preliminary_dict = {}\n",
    "\n",
    "    #traning and saving results\n",
    "    for i in range(0, len(alphas_preliminary)):\n",
    "        results_preliminary[0, i] = get_score_preliminary_r(alphas_preliminary[i])  # Ridge for l1_ratio = 0\n",
    "        results_preliminary_dict[0, i] = results_preliminary[0, i]\n",
    "\n",
    "    for i in range(0, len(alphas_preliminary)):\n",
    "        results_preliminary[10, i] = get_score_preliminary_l(alphas_preliminary[i])  # ElasticNet for \"middle\" values\n",
    "        results_preliminary_dict[10, i] = results_preliminary[10, i]\n",
    "\n",
    "    for j in range(0, len(l1_ratio_preliminary)-1):\n",
    "        for i in range(0, len(alphas_preliminary)):\n",
    "            results_preliminary[j+1, i] = get_score_preliminary_en(alphas_preliminary[i], l1_ratio_preliminary[j+1])  # Lasso for l1_ratio = 1\n",
    "            results_preliminary_dict[j+1, i] = results_preliminary[j+1, i]\n",
    "\n",
    "    # displaying results\n",
    "    display_hm(alphas_preliminary, l1_ratio_preliminary,  results_preliminary)\n",
    "    \n",
    "    return results_preliminary, results_preliminary_dict \n"
   ]
  },
  {
   "cell_type": "code",
   "execution_count": 15,
   "metadata": {},
   "outputs": [
    {
     "name": "stderr",
     "output_type": "stream",
     "text": [
      "C:\\Users\\szyka\\AppData\\Roaming\\Python\\Python310\\site-packages\\sklearn\\linear_model\\_coordinate_descent.py:648: ConvergenceWarning: Objective did not converge. You might want to increase the number of iterations, check the scale of the features or consider increasing regularisation. Duality gap: 1.100e-03, tolerance: 9.143e-04\n",
      "  model = cd_fast.enet_coordinate_descent(\n",
      "C:\\Users\\szyka\\AppData\\Roaming\\Python\\Python310\\site-packages\\sklearn\\linear_model\\_coordinate_descent.py:648: ConvergenceWarning: Objective did not converge. You might want to increase the number of iterations, check the scale of the features or consider increasing regularisation. Duality gap: 3.768e-03, tolerance: 1.053e-03\n",
      "  model = cd_fast.enet_coordinate_descent(\n",
      "C:\\Users\\szyka\\AppData\\Roaming\\Python\\Python310\\site-packages\\sklearn\\linear_model\\_coordinate_descent.py:648: ConvergenceWarning: Objective did not converge. You might want to increase the number of iterations, check the scale of the features or consider increasing regularisation. Duality gap: 2.442e-03, tolerance: 1.039e-03\n",
      "  model = cd_fast.enet_coordinate_descent(\n"
     ]
    },
    {
     "data": {
      "image/png": "[encoded data removed]",
      "text/plain": [
       "<Figure size 640x480 with 2 Axes>"
      ]
     },
     "metadata": {},
     "output_type": "display_data"
    }
   ],
   "source": [
    "results_preliminary, results_preliminary_dict = train_save_results_arr(8)"
   ]
  },
  {
   "cell_type": "code",
   "execution_count": 16,
   "metadata": {},
   "outputs": [],
   "source": [
    "from heapq import nsmallest"
   ]
  },
  {
   "cell_type": "code",
   "execution_count": 17,
   "metadata": {},
   "outputs": [
    {
     "name": "stdout",
     "output_type": "stream",
     "text": [
      "(0, 7) 0.012284378957439614\n",
      "(0, 6) 0.012436744413080632\n",
      "(1, 1) 0.012887039020805008\n",
      "(2, 1) 0.012957349764968474\n",
      "(10, 0) 0.013003555150478352\n",
      "(9, 0) 0.013110768322990626\n",
      "(8, 0) 0.013227733038055068\n",
      "(7, 0) 0.013320638999769301\n",
      "(0, 5) 0.01336757976073472\n",
      "(6, 0) 0.013413888803807578\n"
     ]
    }
   ],
   "source": [
    "smallets_10 = nsmallest(10, results_preliminary_dict, key = results_preliminary_dict.get)\n",
    "for i in smallets_10:\n",
    "    print(i, results_preliminary_dict[i])"
   ]
  },
  {
   "attachments": {},
   "cell_type": "markdown",
   "metadata": {},
   "source": [
    "Saving best parameters"
   ]
  },
  {
   "cell_type": "code",
   "execution_count": 18,
   "metadata": {},
   "outputs": [],
   "source": [
    "id = min(results_preliminary_dict, key=results_preliminary_dict.get)\n",
    "mse_preliminary = results_preliminary_dict[id]\n",
    "punishment_preliminary = pow(10, id[1]-2)"
   ]
  },
  {
   "attachments": {},
   "cell_type": "markdown",
   "metadata": {},
   "source": [
    "We can see that good candidate for best model is Ridge Regression. My idea is to find best \"punishment\" value. I am doing it by \n",
    "1. taking best punishment from preliminary training\n",
    "2. setting smaller and bigger \"logarithmic\" neigbour, I mean:\n",
    "    1. we know that in preliminary training logarithmic interval beetween alphas was \"1\".\n",
    "    2. for finding better punishment value we create new alphas values by taking values in the middle (logarithmically) of left and right current punishmet value's intervals\n",
    "3. looping this proces till the moment when mse improvement is smaller than 0.05% "
   ]
  },
  {
   "cell_type": "code",
   "execution_count": 19,
   "metadata": {},
   "outputs": [],
   "source": [
    "import math"
   ]
  },
  {
   "cell_type": "code",
   "execution_count": 20,
   "metadata": {},
   "outputs": [],
   "source": [
    "def determine_punishment_value(p_min, mse_min, log_interval):\n",
    "    log_val = math.log10(p_min)\n",
    "    new_log_interval = log_interval*0.5\n",
    "    alphas = [pow(10, log_val - new_log_interval), pow(10, log_val + new_log_interval)] #[pow(-), \"p_min,\" pow(+)]\n",
    "    results = {}\n",
    "    results[p_min] = mse_min\n",
    "    for i in alphas:\n",
    "        results[i] = get_score_preliminary_r(i)\n",
    "    \n",
    "    new_p_min = min(results, key=results.get)\n",
    "\n",
    "    if p_min == new_p_min:\n",
    "        return determine_punishment_value(p_min, mse_min, new_log_interval) #preventing from falsy marking p_min as \"best\" only because it was chosen again (improvement = 0)\n",
    "    \n",
    "    else:\n",
    "        new_mse_min = results[new_p_min]\n",
    "        improvement = (mse_min-new_mse_min)/mse_min\n",
    "        lvl = 0.005\n",
    "\n",
    "        if(improvement >= lvl):\n",
    "            return determine_punishment_value(new_p_min, new_mse_min, new_log_interval)\n",
    "        \n",
    "        else:\n",
    "            return new_p_min, new_mse_min "
   ]
  },
  {
   "cell_type": "code",
   "execution_count": 21,
   "metadata": {},
   "outputs": [
    {
     "name": "stdout",
     "output_type": "stream",
     "text": [
      "Best punishment:  42169.65034285822 \n",
      " Best mse:  0.012128773720558225\n"
     ]
    }
   ],
   "source": [
    "best_punishment, best_mse = determine_punishment_value(punishment_preliminary, mse_preliminary, 1)\n",
    "print(\"Best punishment: \", best_punishment, \"\\n Best mse: \", best_mse)"
   ]
  }
 ],
 "metadata": {
  "kernelspec": {
   "display_name": "Python 3.10.0 64-bit",
   "language": "python",
   "name": "python3"
  },
  "language_info": {
   "codemirror_mode": {
    "name": "ipython",
    "version": 3
   },
   "file_extension": ".py",
   "mimetype": "text/x-python",
   "name": "python",
   "nbconvert_exporter": "python",
   "pygments_lexer": "ipython3",
   "version": "3.10.0"
  },
  "orig_nbformat": 4,
  "vscode": {
   "interpreter": {
    "hash": "531782c982964c65c938113cbb69c0a534a2104b0692198f1e69c6c5005775c0"
   }
  }
 },
 "nbformat": 4,
 "nbformat_minor": 2
}
